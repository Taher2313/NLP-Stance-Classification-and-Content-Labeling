{
 "cells": [
  {
   "cell_type": "code",
   "execution_count": 16,
   "metadata": {},
   "outputs": [],
   "source": [
    "import pandas as pd"
   ]
  },
  {
   "cell_type": "code",
   "execution_count": 17,
   "metadata": {},
   "outputs": [],
   "source": [
    "stances = {\n",
    "    \"NEG\":-1,\n",
    "    \"None\":0,\n",
    "    \"POS\":1,\n",
    "}\n",
    "\n",
    "def map_stance_name(st=pd.Series):\n",
    "    return st.apply(lambda x:stances[x])"
   ]
  },
  {
   "cell_type": "code",
   "execution_count": 18,
   "metadata": {},
   "outputs": [
    {
     "data": {
      "text/plain": [
       " 1    1687\n",
       " 0     207\n",
       "-1     106\n",
       "Name: stance, dtype: int64"
      ]
     },
     "execution_count": 18,
     "metadata": {},
     "output_type": "execute_result"
    }
   ],
   "source": [
    "bert_csv = pd.read_csv(\"bert_stance.csv\")\n",
    "bert_stance = bert_csv[\"stance\"]\n",
    "bert_stance = map_stance_name(bert_stance)\n",
    "bert_stance.value_counts()"
   ]
  },
  {
   "cell_type": "code",
   "execution_count": 19,
   "metadata": {},
   "outputs": [
    {
     "data": {
      "text/plain": [
       "info_news       1171\n",
       "celebrity        280\n",
       "personal         259\n",
       "plan             145\n",
       "unrelated         59\n",
       "others            29\n",
       "requests          24\n",
       "rumors            19\n",
       "advice            11\n",
       "restrictions       3\n",
       "Name: category, dtype: int64"
      ]
     },
     "execution_count": 19,
     "metadata": {},
     "output_type": "execute_result"
    }
   ],
   "source": [
    "bert_csv = pd.read_csv(\"bert_category.csv\")\n",
    "bert_category = bert_csv[\"category\"]\n",
    "bert_category.value_counts()"
   ]
  },
  {
   "cell_type": "code",
   "execution_count": 20,
   "metadata": {},
   "outputs": [],
   "source": [
    "import utils\n",
    "\n",
    "\n",
    "ids,_=utils.read_testset(\"Dataset/test.csv\")\n"
   ]
  },
  {
   "cell_type": "code",
   "execution_count": 21,
   "metadata": {},
   "outputs": [
    {
     "name": "stdout",
     "output_type": "stream",
     "text": [
      "Index(['id', 'category', 'stance'], dtype='object')\n"
     ]
    }
   ],
   "source": [
    "utils.write_test_file(ids,bert_category,bert_stance,\"bert.csv\")"
   ]
  },
  {
   "cell_type": "code",
   "execution_count": 22,
   "metadata": {},
   "outputs": [],
   "source": [
    "csv= pd.read_csv(\"15.csv\")\n",
    "NB_stance=csv[\"stance\"]\n",
    "NB_category=csv[\"category\"]"
   ]
  },
  {
   "cell_type": "code",
   "execution_count": 23,
   "metadata": {},
   "outputs": [
    {
     "name": "stdout",
     "output_type": "stream",
     "text": [
      "1633\n",
      "1436\n"
     ]
    }
   ],
   "source": [
    "print(len(NB_stance[NB_stance == bert_stance]))\n",
    "print(len(NB_category[NB_category == bert_category]))"
   ]
  }
 ],
 "metadata": {
  "kernelspec": {
   "display_name": "Python 3.8.10 64-bit",
   "language": "python",
   "name": "python3"
  },
  "language_info": {
   "codemirror_mode": {
    "name": "ipython",
    "version": 3
   },
   "file_extension": ".py",
   "mimetype": "text/x-python",
   "name": "python",
   "nbconvert_exporter": "python",
   "pygments_lexer": "ipython3",
   "version": "3.8.10"
  },
  "orig_nbformat": 4,
  "vscode": {
   "interpreter": {
    "hash": "916dbcbb3f70747c44a77c7bcd40155683ae19c65e1c03b4aa3499c5328201f1"
   }
  }
 },
 "nbformat": 4,
 "nbformat_minor": 2
}
